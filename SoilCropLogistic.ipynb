{
 "cells": [
  {
   "cell_type": "markdown",
   "id": "d3d001b0-2e2f-4b58-8442-99520bad831f",
   "metadata": {},
   "source": [
    "# Sowing Success: How Machine Learning Helps Farmers Select the Best Crops\n",
    "\n",
    "![Farmer in a field](farmer_in_a_field.jpg)\n",
    "\n",
    "Measuring essential soil metrics such as nitrogen, phosphorous, potassium levels, and pH value is an important aspect of assessing soil condition. However, it can be an expensive and time-consuming process, which can cause farmers to prioritize which metrics to measure based on their budget constraints.\n",
    "\n",
    "Farmers have various options when it comes to deciding which crop to plant each season. Their primary objective is to maximize the yield of their crops, taking into account different factors. One crucial factor that affects crop growth is the condition of the soil in the field, which can be assessed by measuring basic elements such as nitrogen and potassium levels. Each crop has an ideal soil condition that ensures optimal growth and maximum yield.\n",
    "\n",
    "A farmer reached out to you as a machine learning expert for assistance in selecting the best crop for his field. They've provided you with a dataset called `soil_measures.csv`, which contains:\n",
    "\n",
    "- `\"N\"`: Nitrogen content ratio in the soil\n",
    "- `\"P\"`: Phosphorous content ratio in the soil\n",
    "- `\"K\"`: Potassium content ratio in the soil\n",
    "- `\"pH\"` value of the soil\n",
    "- `\"crop\"`: categorical values that contain various crops (target variable).\n",
    "\n",
    "Each row in this dataset represents various measures of the soil in a particular field. Based on these measurements, the crop specified in the `\"crop\"` column is the optimal choice for that field.  \n",
    "\n",
    "In this project, you will build multi-class classification models to predict the type of `\"crop\"` and identify the single most importance feature for predictive performance."
   ]
  },
  {
   "cell_type": "code",
   "execution_count": 8,
   "id": "d0eb4f16-5a99-460d-a5ba-706b7ef0bbe7",
   "metadata": {
    "executionCancelledAt": null,
    "executionTime": 15099,
    "id": "bA5ajAmk7XH6",
    "lastExecutedAt": 1739890934904,
    "lastExecutedByKernel": "4ca5c4bd-7253-4609-acd1-379d5c607e66",
    "lastScheduledRunId": null,
    "lastSuccessfullyExecutedCode": "# All required libraries are imported here for you.\nimport pandas as pd\nfrom sklearn.linear_model import LogisticRegression\nfrom sklearn.model_selection import train_test_split\nfrom sklearn.metrics import accuracy_score, precision_score, recall_score\n\n# Load the dataset\ncrops = pd.read_csv(\"soil_measures.csv\")\n\n# Write your code here\nX = crops.drop(\"crop\", axis = 1)\ny = crops[\"crop\"]\n\nbest_feature = None\nbest_score = 0\nbest_precision = 0 \nbest_recall = 0 \n\nX_train, X_test, y_train, y_test = train_test_split(X, y, test_size = 0.20, random_state= 42)\n\n# Iterate through each feature\nfor feature in X.columns:  \n    X_train_single = X_train[[feature]]  \n    X_test_single = X_test[[feature]]  \n    \n    \n    model = LogisticRegression(max_iter=200)\n    model.fit(X_train_single, y_train)\n\n  # Predict and evaluate performance\n    y_pred = model.predict(X_test_single)\n    score = accuracy_score(y_test, y_pred)\n    precision = precision_score(y_test, y_pred, average = 'weighted' , zero_division = 0)\n    recall = recall_score(y_test, y_pred, average = 'weighted', zero_division = 0)\n    \n    # Update best feature if current one performs better\n    if score > best_score:\n        best_feature = feature\n        best_score = score\n        best_precision = precision \n        best_recall = recall \n\n# Store result in dictionary\nbest_predictive_feature = {\n    \"features\": best_feature, \n    \"accuracy\": best_score, \n    \"precision\" : best_precision, \n    \"recall\": best_recall \n}\n\n# Output the best feature and its score\nprint(best_predictive_feature)\n\n",
    "outputsMetadata": {
     "0": {
      "height": 38,
      "type": "stream"
     }
    }
   },
   "outputs": [
    {
     "name": "stdout",
     "output_type": "stream",
     "text": [
      "{'features': 'K', 'accuracy': 0.24545454545454545, 'precision': 0.11116577536331361, 'recall': 0.24545454545454545}\n"
     ]
    }
   ],
   "source": [
    "# All required libraries are imported here for you.\n",
    "import pandas as pd\n",
    "from sklearn.linear_model import LogisticRegression\n",
    "from sklearn.model_selection import train_test_split\n",
    "from sklearn.metrics import accuracy_score, precision_score, recall_score\n",
    "from sklearn.preprocessing import StandardScaler\n",
    "\n",
    "\n",
    "# Load the dataset\n",
    "crops = pd.read_csv(\"soil_measures.csv\")\n",
    "\n",
    "# Write your code here\n",
    "X = crops.drop(\"crop\", axis = 1)\n",
    "y = crops[\"crop\"]\n",
    "\n",
    "best_feature = None\n",
    "best_score = 0\n",
    "best_precision = 0 \n",
    "best_recall = 0 \n",
    "\n",
    "X_train, X_test, y_train, y_test = train_test_split(X, y, test_size = 0.20, random_state= 42)\n",
    "\n",
    "scaler = StandardScaler()\n",
    "X_train_scaled = scaler.fit_transform(X_train)\n",
    "X_test_scaled = scaler.transform(X_test)\n",
    "\n",
    "# Iterate through each feature\n",
    "for feature in X.columns:  \n",
    "    col_idx = X.columns.get_loc(feature)  # Obtiene la posición de la columna en el DataFrame original\n",
    "    \n",
    "    X_train_single = X_train_scaled[:, col_idx].reshape(-1, 1)  \n",
    "    X_test_single = X_test_scaled[:, col_idx].reshape(-1, 1) \n",
    "    \n",
    "    \n",
    "    model = LogisticRegression(max_iter=200)\n",
    "    model.fit(X_train_single, y_train)\n",
    "\n",
    "  # Predict and evaluate performance\n",
    "    y_pred = model.predict(X_test_single)\n",
    "    score = accuracy_score(y_test, y_pred)\n",
    "    precision = precision_score(y_test, y_pred, average = 'weighted' , zero_division = 0)\n",
    "    recall = recall_score(y_test, y_pred, average = 'weighted', zero_division = 0)\n",
    "    \n",
    "    # Update best feature if current one performs better\n",
    "    if score > best_score:\n",
    "        best_feature = feature\n",
    "        best_score = score\n",
    "        best_precision = precision \n",
    "        best_recall = recall \n",
    "\n",
    "# Store result in dictionary\n",
    "best_predictive_feature = {\n",
    "    \"features\": best_feature, \n",
    "    \"accuracy\": best_score, \n",
    "    \"precision\" : best_precision, \n",
    "    \"recall\": best_recall \n",
    "}\n",
    "\n",
    "# Output the best feature and its score\n",
    "print(best_predictive_feature)\n",
    "\n"
   ]
  },
  {
   "cell_type": "markdown",
   "id": "968e805e-cfc2-4c07-96ea-54ca5e9642e8",
   "metadata": {},
   "source": [
    "# CONCLUSIÓN "
   ]
  },
  {
   "cell_type": "markdown",
   "id": "815d5571-c106-490c-81a7-5baf4d5bea2a",
   "metadata": {},
   "source": [
    "El análisis realizado con regresión logística muestra que la mejor característica predictiva para determinar el tipo de cultivo es el nivel de potasio (\"K\") en el suelo. Sin embargo, los resultados indican que el modelo tiene un rendimiento bajo:\n",
    "\n",
    "Exactitud (Accuracy): 24.5% → El modelo solo acierta en el 24.5% de los casos, lo que sugiere que no está capturando bien los patrones en los datos.\n",
    "\n",
    "Precisión (Precision): 11.11% → Muchas de las predicciones son incorrectas, indicando un alto número de falsos positivos.\n",
    "\n",
    "Exhaustividad (Recall): 24.5% → El modelo no está identificando correctamente todas las instancias de cada cultivo."
   ]
  }
 ],
 "metadata": {
  "colab": {
   "name": "Welcome to DataCamp Workspaces.ipynb",
   "provenance": []
  },
  "kernelspec": {
   "display_name": "Python 3 (ipykernel)",
   "language": "python",
   "name": "python3"
  },
  "language_info": {
   "codemirror_mode": {
    "name": "ipython",
    "version": 3
   },
   "file_extension": ".py",
   "mimetype": "text/x-python",
   "name": "python",
   "nbconvert_exporter": "python",
   "pygments_lexer": "ipython3",
   "version": "3.12.4"
  }
 },
 "nbformat": 4,
 "nbformat_minor": 5
}
